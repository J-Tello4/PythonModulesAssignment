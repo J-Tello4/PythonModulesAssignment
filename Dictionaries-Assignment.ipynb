{
 "cells": [
  {
   "cell_type": "markdown",
   "metadata": {},
   "source": [
    "# Mastering Python Dictionaries Assignment\n",
    "\n",
    "## Exercise 1: Dictionary Basics\n",
    "\n",
    "Dictionaries in Python are powerful tools for storing and managing data in key-value pairs.\n",
    "\n",
    "- **Task 1.1:** Create a dictionary named `my_dict` with keys `'name'` and `'age'` having values `'John'` and `30`, respectively. Print the dictionary."
   ]
  },
  {
   "cell_type": "code",
   "execution_count": 1,
   "metadata": {},
   "outputs": [
    {
     "name": "stdout",
     "output_type": "stream",
     "text": [
      "{'age', 'John', 'name', 30}\n"
     ]
    }
   ],
   "source": [
    "# Task 1.1\n",
    "\n",
    "my_dict = {'name' , 'age','John', 30}\n",
    "\n",
    "print(my_dict)"
   ]
  },
  {
   "cell_type": "markdown",
   "metadata": {},
   "source": [
    "- **Task 1.2:** Access and print the value associated with the key `'name'` in `my_dict`."
   ]
  },
  {
   "cell_type": "code",
   "execution_count": 2,
   "metadata": {},
   "outputs": [
    {
     "name": "stdout",
     "output_type": "stream",
     "text": [
      "John\n"
     ]
    }
   ],
   "source": [
    "# Task 1.2\n",
    "dictionary = {\n",
    "    'name' : 'John',\n",
    "    'age'  : 30,\n",
    "}\n",
    "\n",
    "my_dictionary = dictionary['name']\n",
    "\n",
    "print(my_dictionary)\n"
   ]
  },
  {
   "cell_type": "markdown",
   "metadata": {},
   "source": [
    "## Exercise 2: Dictionary Methods\n",
    "\n",
    "Learning to use dictionary methods effectively is crucial for manipulating and retrieving data.\n",
    "\n",
    "- **Task 2.1:** Use the `get()` method to retrieve the value for the key `'email'`. If `'email'` is not a key, it should return `'Not Found'`. Print the result."
   ]
  },
  {
   "cell_type": "code",
   "execution_count": 3,
   "metadata": {},
   "outputs": [
    {
     "name": "stdout",
     "output_type": "stream",
     "text": [
      "None\n"
     ]
    }
   ],
   "source": [
    "# Task 2.1\n",
    "\n",
    "dictionary = {\n",
    "    'name' : 'John',\n",
    "    'age'  : 30,\n",
    "}\n",
    "my = dictionary.get('email')\n",
    "print(my)"
   ]
  },
  {
   "cell_type": "markdown",
   "metadata": {},
   "source": [
    "- **Task 2.2:** Print all the keys in `my_dict` using the `keys()` method."
   ]
  },
  {
   "cell_type": "code",
   "execution_count": 4,
   "metadata": {},
   "outputs": [
    {
     "name": "stdout",
     "output_type": "stream",
     "text": [
      "dict_keys(['name', 'age'])\n"
     ]
    }
   ],
   "source": [
    "# Task 2.2\n",
    "\n",
    "print(dictionary.keys())"
   ]
  },
  {
   "cell_type": "markdown",
   "metadata": {},
   "source": [
    "- **Task 2.3:** Print all the values in `my_dict` using the `values()` method."
   ]
  },
  {
   "cell_type": "code",
   "execution_count": 5,
   "metadata": {},
   "outputs": [
    {
     "name": "stdout",
     "output_type": "stream",
     "text": [
      "dict_values(['John', 30])\n"
     ]
    }
   ],
   "source": [
    "# Task 2.3\n",
    "\n",
    "print(dictionary.values())\n"
   ]
  },
  {
   "cell_type": "markdown",
   "metadata": {},
   "source": [
    "- **Task 2.4:** Print each key-value pair in `my_dict` using the `items()` method."
   ]
  },
  {
   "cell_type": "code",
   "execution_count": 6,
   "metadata": {},
   "outputs": [
    {
     "name": "stdout",
     "output_type": "stream",
     "text": [
      "dict_items([('name', 'John'), ('age', 30)])\n"
     ]
    }
   ],
   "source": [
    "# Task 2.4\n",
    "\n",
    "print(dictionary.items())"
   ]
  },
  {
   "cell_type": "markdown",
   "metadata": {},
   "source": [
    "- **Task 2.5:** Use the `update()` method to add a new key-value pair, `'email': 'john@example.com'`, to `my_dict`. Print the updated dictionary."
   ]
  },
  {
   "cell_type": "code",
   "execution_count": 16,
   "metadata": {},
   "outputs": [
    {
     "name": "stdout",
     "output_type": "stream",
     "text": [
      "{'name': 'John', 'age': 30, 'email': 'john@example.com'}\n"
     ]
    }
   ],
   "source": [
    "# Task 2.5\n",
    "\n",
    "dictionary = {\n",
    "    'name' : 'John',\n",
    "    'age'  : 30,\n",
    "}\n",
    "\n",
    "dictionary.update({'email': 'john@example.com'})\n",
    "\n",
    "print(dictionary)\n"
   ]
  },
  {
   "cell_type": "markdown",
   "metadata": {},
   "source": [
    "- **Task 2.6:** Remove the key `'age'` from `my_dict` using the `pop()` method and print the popped value and the updated dictionary."
   ]
  },
  {
   "cell_type": "code",
   "execution_count": 20,
   "metadata": {},
   "outputs": [
    {
     "name": "stdout",
     "output_type": "stream",
     "text": [
      "{'name': 'John', 'email': 'john@example.com'}\n"
     ]
    }
   ],
   "source": [
    "# Task 2.6\n",
    "\n",
    "dictionary.pop('age',1)\n",
    "\n",
    "print(dictionary)"
   ]
  },
  {
   "cell_type": "markdown",
   "metadata": {},
   "source": [
    "## Exercise 3: Advanced Dictionary Operations\n",
    "\n",
    "Exploring advanced features of dictionaries can enhance your data handling capabilities.\n",
    "\n",
    "- **Task 3.1:** Create a nested dictionary named `nested_dict` with at least two keys, each containing another dictionary as its value. Print `nested_dict`."
   ]
  },
  {
   "cell_type": "code",
   "execution_count": 21,
   "metadata": {},
   "outputs": [
    {
     "name": "stdout",
     "output_type": "stream",
     "text": [
      "fibula\n",
      "radius\n"
     ]
    }
   ],
   "source": [
    "# Task 3.1\n",
    "\n",
    "nested_dict = {\n",
    "    \"leg\": { \n",
    "        \"bone_1\": \"fibula\",\n",
    "        \"bone_2\" : \"tibia\"\n",
    "    },\n",
    "    \"arm\" : {\n",
    "        \"bone_1\": \"ulna\",\n",
    "        \"bone_2\": \"radius\"\n",
    "    }\n",
    "}\n",
    "print(nested_dict[\"leg\"][\"bone_1\"])\n",
    "print(nested_dict[\"arm\"][\"bone_2\"])\n"
   ]
  },
  {
   "cell_type": "markdown",
   "metadata": {},
   "source": [
    "- **Task 3.2:** Access and print a value from one of the inner dictionaries in `nested_dict`."
   ]
  },
  {
   "cell_type": "code",
   "execution_count": 22,
   "metadata": {},
   "outputs": [
    {
     "name": "stdout",
     "output_type": "stream",
     "text": [
      "ulna\n"
     ]
    }
   ],
   "source": [
    "# Task 3.2\n",
    "print(nested_dict[\"arm\"][\"bone_1\"])"
   ]
  },
  {
   "cell_type": "markdown",
   "metadata": {},
   "source": [
    "- **Task 3.3:** Write a dictionary comprehension to create a new dictionary that inverts `my_dict`, swapping keys and values. Print the new dictionary."
   ]
  },
  {
   "cell_type": "code",
   "execution_count": 28,
   "metadata": {},
   "outputs": [
    {
     "name": "stdout",
     "output_type": "stream",
     "text": [
      "['age', 'name']\n"
     ]
    }
   ],
   "source": [
    "# Task 3.3\n",
    "\n",
    "dictionary = {\n",
    "    'name' : 'John',\n",
    "    'age'  : 30,\n",
    "}\n",
    "\n",
    "my_dict = list(dictionary)\n",
    "\n",
    "my_dict.reverse()\n",
    "\n",
    "print(my_dict)\n"
   ]
  },
  {
   "cell_type": "markdown",
   "metadata": {},
   "source": [
    "## Reflection\n",
    "\n",
    "After completing these exercises, reflect on the following:\n",
    "\n",
    "- How do dictionaries in Python simplify data management and retrieval?\n",
    "- Describe a real-world scenario where a nested dictionary could be handy.\n",
    "- Reflect on how dictionary methods and comprehensions can produce more efficient and readable code.\n",
    "\n",
    "Engaging with these exercises will deepen your understanding of dictionaries in Python and their practical applications in programming."
   ]
  },
  {
   "cell_type": "markdown",
   "metadata": {},
   "source": [
    "Reflect:"
   ]
  }
 ],
 "metadata": {
  "kernelspec": {
   "display_name": "Python 3",
   "language": "python",
   "name": "python3"
  },
  "language_info": {
   "codemirror_mode": {
    "name": "ipython",
    "version": 3
   },
   "file_extension": ".py",
   "mimetype": "text/x-python",
   "name": "python",
   "nbconvert_exporter": "python",
   "pygments_lexer": "ipython3",
   "version": "3.12.6"
  }
 },
 "nbformat": 4,
 "nbformat_minor": 2
}
