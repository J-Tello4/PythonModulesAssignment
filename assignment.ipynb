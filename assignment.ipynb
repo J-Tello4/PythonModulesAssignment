{
 "cells": [
  {
   "cell_type": "markdown",
   "metadata": {},
   "source": [
    "**Practice:**\n",
    "1. **Basic Decision Making:**   - Write a program to check if a number is positive, negative, or zero.   - Input: Any integer.   - Output: A string stating the type of number.\n",
    "2. **Logical Operators:**   - Create a program that determines if a year is a leap year. Use logical operators.   - Input: A year.   - Output: True if a leap year, False otherwise.\n",
    "3. **Nested Conditional Statements:**   \n",
    " Develop a program that categorizes a person's life stage: child (< 18), adult (18-64), senior (> 64).   - Input: Age as an integer.   - Output: The life stage. "
   ]
  },
  {
   "cell_type": "code",
   "execution_count": 8,
   "metadata": {},
   "outputs": [
    {
     "name": "stdout",
     "output_type": "stream",
     "text": [
      "its a positive\n",
      "Adult\n"
     ]
    }
   ],
   "source": [
    "# answers\n",
    "\n",
    "#1 Basic Decision Making:\n",
    "\n",
    "check_number = int(input())\n",
    "if check_number > 0:\n",
    "     print(\"its a positive\")\n",
    "elif check_number < 0:\n",
    "     print(\"its a negative\")\n",
    "elif check_number == 0:\n",
    "    print(\"its a zero\")\n",
    "\n",
    "\n",
    "\n",
    "\n",
    "\n",
    "\n",
    "\n",
    "\n",
    "\n",
    "\n",
    "#2 Logical Operations\n",
    "year = int(input(\"Enter Year\"))\n",
    "\n",
    "if year % 4 == 0 and % 400 == 0:\n",
    "     print(year, \"Is a leap year\")\n",
    "else:\n",
    "     print(year, \"is not a leap year\")\n",
    "\n",
    "\n",
    "\n",
    "\n",
    "\n",
    "#3 Nested Conditional Statements\n",
    "\n",
    "age = int(input(\"Enter Age:\"))\n",
    "\n",
    "if age < 18:\n",
    "     print(\"Child\")\n",
    "elif 18 <= age <= 26:\n",
    "     print(\"Adult\")\n",
    "elif age > 64:\n",
    "     print(\"Senior\")\n",
    "else:\n",
    "     print(\"Adult\")"
   ]
  }
 ],
 "metadata": {
  "kernelspec": {
   "display_name": "Python 3",
   "language": "python",
   "name": "python3"
  },
  "language_info": {
   "codemirror_mode": {
    "name": "ipython",
    "version": 3
   },
   "file_extension": ".py",
   "mimetype": "text/x-python",
   "name": "python",
   "nbconvert_exporter": "python",
   "pygments_lexer": "ipython3",
   "version": "3.12.6"
  }
 },
 "nbformat": 4,
 "nbformat_minor": 2
}
