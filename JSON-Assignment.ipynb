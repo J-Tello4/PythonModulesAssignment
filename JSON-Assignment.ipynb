{
 "cells": [
  {
   "cell_type": "markdown",
   "metadata": {},
   "source": [
    "# JSON Handling in Python Assignment\n",
    "\n",
    "## Exercise 1: Parsing JSON Strings\n",
    "\n",
    "Understanding how to convert JSON strings into Python data structures is a fundamental skill for working with JSON in Python.\n",
    "\n",
    "* **Task 1.1:** Given the JSON string `{\"name\": \"Alice\", \"age\": 30, \"city\": \"New York\"}`, parse it into a Python dictionary and print the dictionary."
   ]
  },
  {
   "cell_type": "code",
   "execution_count": 6,
   "metadata": {},
   "outputs": [
    {
     "name": "stdout",
     "output_type": "stream",
     "text": [
      "{'Name': 'Alice', 'age': '30', 'city': 'New York'}\n"
     ]
    }
   ],
   "source": [
    "# Task 1.1\n",
    "import json\n",
    "\n",
    "\n",
    "json_string = '{\"Name\":\"Alice\", \"age\": \"30\", \"city\": \"New York\"}'\n",
    "\n",
    "data = json.loads(json_string)\n",
    "\n",
    "print(data)\n",
    "\n",
    "\n"
   ]
  },
  {
   "cell_type": "markdown",
   "metadata": {},
   "source": [
    "* **Task 1.2:** Access the value of the `name` key from the dictionary created in Task 1.1 and print it.\n"
   ]
  },
  {
   "cell_type": "code",
   "execution_count": 8,
   "metadata": {},
   "outputs": [
    {
     "name": "stdout",
     "output_type": "stream",
     "text": [
      "Alice\n"
     ]
    }
   ],
   "source": [
    "# Task 1.2\n",
    "data = {\"Name\": \"Alice\", \"age\":\"30\",\"city\":\"New York\"}\n",
    "\n",
    "Name = data[\"Name\"]\n",
    "print(Name)"
   ]
  },
  {
   "cell_type": "markdown",
   "metadata": {},
   "source": [
    "* **Task 1.3:** Modify the `age` value to `31` in the dictionary from Task 1.1 and print the updated dictionary.\n"
   ]
  },
  {
   "cell_type": "code",
   "execution_count": 13,
   "metadata": {},
   "outputs": [
    {
     "name": "stdout",
     "output_type": "stream",
     "text": [
      "{'Name': 'Alice', 'age': '31', 'city': 'New York'}\n"
     ]
    }
   ],
   "source": [
    "# Task 1.3\n",
    "data = {\"Name\": \"Alice\", \"age\":\"30\",\"city\":\"New York\"}\n",
    "\n",
    "data[\"age\"] = \"31\"\n",
    "\n",
    "print(data)"
   ]
  },
  {
   "cell_type": "markdown",
   "metadata": {},
   "source": [
    "## Exercise 2: Generating JSON Strings\n",
    "\n",
    "Converting Python data structures to JSON strings is crucial for data storage and communication.\n",
    "\n",
    "* **Task 2.1:** Create a Python list named `colors` with the elements `\"red\"`, `\"green\"`, and `\"blue\"`. Convert this list to a JSON string and print the string."
   ]
  },
  {
   "cell_type": "code",
   "execution_count": 15,
   "metadata": {},
   "outputs": [
    {
     "name": "stdout",
     "output_type": "stream",
     "text": [
      "[\"red\", \"green\", \"blue\"]\n"
     ]
    }
   ],
   "source": [
    "# Task 2.1\n",
    "colors = [\"red\" , \"green\", \"blue\"]\n",
    "\n",
    "import json\n",
    "\n",
    "j_string = json.dumps(colors)\n",
    "\n",
    "print(j_string)\n",
    "\n"
   ]
  },
  {
   "cell_type": "markdown",
   "metadata": {},
   "source": [
    "* **Task 2.2:** Create a Python dictionary representing a person with keys `name`, `age`, and `skills`, where `skills` is a list of skills. Convert this dictionary to a JSON string with an indentation of 4 spaces and print it."
   ]
  },
  {
   "cell_type": "code",
   "execution_count": 17,
   "metadata": {},
   "outputs": [
    {
     "name": "stdout",
     "output_type": "stream",
     "text": [
      "{\n",
      "    \"Name\": \" My name\",\n",
      "    \"age\": \"my age\",\n",
      "    \"skills\": [\n",
      "        \"Handy\",\n",
      "        \"Mid\",\n",
      "        \"Can Jump\"\n",
      "    ]\n",
      "}\n"
     ]
    }
   ],
   "source": [
    "# Task 2.2\n",
    "\n",
    "dictionary = {\"Name\": \" My name\",\n",
    "              \"age\" : \"my age\",\n",
    "              \"skills\" : [\"Handy\", \"Mid\", \"Can Jump\"]}\n",
    "import json\n",
    "\n",
    "j_string = json.dumps(dictionary, indent=4)\n",
    "\n",
    "print(j_string)"
   ]
  },
  {
   "cell_type": "markdown",
   "metadata": {},
   "source": [
    "* **Task 3.1:** Given the nested JSON string `{\"employee\": {\"name\": \"John Doe\", \"roles\": [\"Admin\", \"User\"], \"email\": \"johndoe@example.com\"}}`, parse it into a Python object and print the roles of the employee.\n"
   ]
  },
  {
   "cell_type": "code",
   "execution_count": 19,
   "metadata": {},
   "outputs": [
    {
     "name": "stdout",
     "output_type": "stream",
     "text": [
      "{'employee': {'name': 'john doe', 'roles': ['admin', 'user'], 'email': 'johndoe@example.com'}}\n",
      "['admin', 'user']\n"
     ]
    }
   ],
   "source": [
    "# Task 3.1\n",
    "import json\n",
    "j_string = '{\"employee\": {\"name\": \"john doe\", \"roles\": [\"admin\", \"user\"], \"email\": \"johndoe@example.com\"}}'\n",
    "\n",
    "the_roles = json.loads(j_string)\n",
    "\n",
    "\n",
    "print(the_roles)\n",
    "\n",
    "employee_roles = the_roles['employee']['roles']\n",
    "print(employee_roles)\n"
   ]
  },
  {
   "cell_type": "markdown",
   "metadata": {},
   "source": [
    "* **Task 3.2:** Add a new role `\"Manager\"` to the employee roles in the Python object from Task 3.1, then convert the entire object back to a JSON string and print it.\n"
   ]
  },
  {
   "cell_type": "code",
   "execution_count": 23,
   "metadata": {},
   "outputs": [
    {
     "name": "stdout",
     "output_type": "stream",
     "text": [
      "{'employee': {'name': 'john doe', 'roles': ['admin', 'user', 'Manager', 'Manager'], 'email': 'johndoe@example.com'}}\n",
      "Updated: ['admin', 'user', 'Manager', 'Manager', 'Manager']\n"
     ]
    }
   ],
   "source": [
    "# Task 3.2\n",
    "\n",
    "import json \n",
    "\n",
    "print(the_roles)\n",
    "\n",
    "the_roles['employee']['roles'].append(\"Manager\")\n",
    "Output = the_roles['employee']['roles']\n",
    "print(\"Updated:\",Output)"
   ]
  },
  {
   "cell_type": "markdown",
   "metadata": {},
   "source": [
    "## Exercise 4: JSON and Files\n",
    "\n",
    "Working with JSON files is a common task for configuration files, data storage, and more.\n",
    "\n",
    "* **Task 4.1:** Write a Python script to load a JSON file named `data.json` containing an array of objects. Print the loaded data."
   ]
  },
  {
   "cell_type": "code",
   "execution_count": 3,
   "metadata": {},
   "outputs": [
    {
     "name": "stdout",
     "output_type": "stream",
     "text": [
      "[\n",
      "    {\n",
      "        \"name\": \"Apple\",\n",
      "        \"color\": \"Red\",\n",
      "        \"weight\": 150\n",
      "    },\n",
      "    {\n",
      "        \"name\": \"Banana\",\n",
      "        \"color\": \"Yellow\",\n",
      "        \"weight\": 120\n",
      "    },\n",
      "    {\n",
      "        \"name\": \"Orange\",\n",
      "        \"color\": \"Orange\",\n",
      "        \"weight\": 180\n",
      "    }\n",
      "]\n"
     ]
    }
   ],
   "source": [
    "# Task 4.1\n",
    "import json\n",
    "\n",
    "with open('Array.json', 'r') as file:\n",
    "    data = json.load(file) \n",
    "print(json.dumps(data,indent=4))"
   ]
  },
  {
   "cell_type": "markdown",
   "metadata": {},
   "source": [
    "* **Task 4.2:** Modify the data loaded in Task 4.1 by adding a new object to the array. Save the updated array back to `data.json`."
   ]
  },
  {
   "cell_type": "code",
   "execution_count": 8,
   "metadata": {},
   "outputs": [
    {
     "name": "stdout",
     "output_type": "stream",
     "text": [
      "[\n",
      "    {\n",
      "        \"name\": \"Apple\",\n",
      "        \"color\": \"Red\",\n",
      "        \"weight\": 150\n",
      "    },\n",
      "    {\n",
      "        \"name\": \"Banana\",\n",
      "        \"color\": \"Yellow\",\n",
      "        \"weight\": 120\n",
      "    },\n",
      "    {\n",
      "        \"name\": \"Orange\",\n",
      "        \"color\": \"Orange\",\n",
      "        \"weight\": 180\n",
      "    },\n",
      "    {\n",
      "        \"name\": \"Plums\",\n",
      "        \"color\": \"Purple\",\n",
      "        \"weight\": 70\n",
      "    }\n",
      "]\n"
     ]
    }
   ],
   "source": [
    "# Task 4.2\n",
    "\n",
    "import json\n",
    "\n",
    "with open('Array.json','r') as file:\n",
    "    data = json.load(file)\n",
    "\n",
    "superior_fruit = {\n",
    "    \"name\": \"Plums\",\n",
    "    \"color\": \"Purple\",\n",
    "    \"weight\": 70\n",
    "}\n",
    "\n",
    "data.append(superior_fruit)\n",
    "print(json.dumps(data, indent=4))"
   ]
  },
  {
   "cell_type": "markdown",
   "metadata": {},
   "source": [
    "## Reflection\n",
    "\n",
    "After completing these exercises, reflect on the following questions and write a short paragraph:\n",
    "\n",
    "* What are the advantages of using JSON for data storage and exchange in Python applications?\n",
    "* How does handling complex JSON structures prepare you for working with real-world data?\n",
    "* Reflect on the process of converting between Python objects and JSON strings. How does this impact the way you think about data structures in Python?"
   ]
  }
 ],
 "metadata": {
  "kernelspec": {
   "display_name": "Python 3",
   "language": "python",
   "name": "python3"
  },
  "language_info": {
   "codemirror_mode": {
    "name": "ipython",
    "version": 3
   },
   "file_extension": ".py",
   "mimetype": "text/x-python",
   "name": "python",
   "nbconvert_exporter": "python",
   "pygments_lexer": "ipython3",
   "version": "3.12.6"
  }
 },
 "nbformat": 4,
 "nbformat_minor": 2
}
