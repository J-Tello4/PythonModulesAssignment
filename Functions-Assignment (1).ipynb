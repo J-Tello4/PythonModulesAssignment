{
 "cells": [
  {
   "cell_type": "markdown",
   "metadata": {},
   "source": [
    "### **Functions in Python Assignment**\n",
    "\n",
    "## **Exercise 1: Defining and Calling Functions**\n",
    "\n",
    "Demonstrate your understanding of how to define and call functions in Python.\n",
    "\n",
    "* **Task 1.1:** Define a function named `square` that takes one parameter, `number`, and returns the square of that number. Call the function with a number of your choice and print the result.\n",
    "\n",
    "* **Task 1.2:** Create a function called `say_hello` that takes no parameters and simply prints `\"Hello, Python!\"` when called.\n",
    "\n",
    "## **Exercise 2: Working with Parameters and Return Values**\n",
    "\n",
    "Explore function parameters, arguments, and the importance of return values.\n",
    "\n",
    "* **Task 2.1:** Write a function named `add` that takes two parameters, `a` and `b`, adds them together, and returns the result. Call the function with two numbers as arguments and print the result.\n",
    "\n",
    "* **Task 2.2:** Define a function called `is_even` that takes a single parameter, `num`, and returns `True` if the number is even, and `False` otherwise. Demonstrate its use by printing the result of a call with an even and an odd number.\n",
    "\n",
    "## **Exercise 3: Default Parameters and Keyword Arguments**\n",
    "\n",
    "Understand how to use default parameters and keyword arguments in function calls.\n",
    "\n",
    "* **Task 3.1:** Define a function `greet_user` with one parameter, `name`, with a default value of `\"Guest\"`. The function should print a greeting message using the name. Call the function twice: first, without any arguments, and second, with a name of your choice.\n",
    "\n",
    "* **Task 3.2:** Create a function named `describe_animal` with two parameters: `animal_type` and `pet_name`. Print a description of the animal using these parameters. Call this function using keyword arguments to specify the name and type of your pet or a fictional animal.\n",
    "\n",
    "## **Additional Challenges**\n",
    "\n",
    "For more advanced practice:\n",
    "\n",
    "* **Challenge 1:** Write a function `max_of_three` that takes three numbers as arguments and returns the largest of them. Ensure your function works for a set of any three numbers.\n",
    "\n",
    "* **Challenge 2:** Implement a function `concat_strings` that takes an arbitrary number of strings (using `*args`) and concatenates them into a single string separated by spaces. Test your function with multiple strings.\n",
    "\n",
    "---\n",
    "\n",
    "### **Submission Guidelines**\n",
    "\n",
    "Please submit a Python file (.py) containing the implementations of all the tasks and challenges. Make sure your code is well-commented to explain the functionality of each function. Happy coding!"
   ]
  },
  {
   "cell_type": "code",
   "execution_count": 27,
   "metadata": {},
   "outputs": [
    {
     "name": "stdout",
     "output_type": "stream",
     "text": [
      "<function square at 0x000002E12CEB8E00>\n"
     ]
    }
   ],
   "source": [
    "# 1.1 EXCERCISE\n",
    "# Define a function named square that takes one parameter , number , and returns the square of that number. \n",
    "\n",
    "def square(number):\n",
    "    return number **2\n",
    "print(square)"
   ]
  },
  {
   "cell_type": "code",
   "execution_count": 20,
   "metadata": {},
   "outputs": [
    {
     "name": "stdout",
     "output_type": "stream",
     "text": [
      "<function say_hello at 0x000002E12C8CAFC0>\n"
     ]
    }
   ],
   "source": [
    "# 1.2\n",
    "# Create a function called \"hello\" that takes no parameters and simply calls \"Hello, Python!\"\n",
    "\n",
    "def say_hello():\n",
    "    print(\"Hello, Python!\")\n",
    "print(say_hello)"
   ]
  },
  {
   "cell_type": "code",
   "execution_count": 21,
   "metadata": {},
   "outputs": [
    {
     "name": "stdout",
     "output_type": "stream",
     "text": [
      "<function add at 0x000002E12C8E51C0>\n"
     ]
    }
   ],
   "source": [
    "# 2.1\n",
    "def add(a,b):\n",
    "    return a+b \n",
    "\n",
    "Answer = add(3,8)\n"
   ]
  },
  {
   "cell_type": "code",
   "execution_count": null,
   "metadata": {},
   "outputs": [],
   "source": [
    "# 2.2 \n",
    "def is_even(num):\n",
    "    if num = += 2\n"
   ]
  },
  {
   "cell_type": "code",
   "execution_count": 23,
   "metadata": {},
   "outputs": [
    {
     "name": "stdout",
     "output_type": "stream",
     "text": [
      "Hello Jeff\n"
     ]
    }
   ],
   "source": [
    "# 3.1\n",
    "\n",
    "def greet_user( name = \"Guest\"):\n",
    "    print(f\"Hello, {name}\")\n",
    "\n",
    "\"OR\"\n",
    "\n",
    "def greet_user(name = \"Jeff\"):\n",
    "    print(f\"Hello {name}\")\n",
    "\n",
    "greet_user()"
   ]
  },
  {
   "cell_type": "code",
   "execution_count": 26,
   "metadata": {},
   "outputs": [
    {
     "ename": "TypeError",
     "evalue": "animal() missing 2 required positional arguments: 'animal_type' and 'pet_name'",
     "output_type": "error",
     "traceback": [
      "\u001b[1;31m---------------------------------------------------------------------------\u001b[0m",
      "\u001b[1;31mTypeError\u001b[0m                                 Traceback (most recent call last)",
      "Cell \u001b[1;32mIn[26], line 7\u001b[0m\n\u001b[0;32m      3\u001b[0m \u001b[38;5;28;01mdef\u001b[39;00m \u001b[38;5;21manimal\u001b[39m(animal_type, pet_name):\n\u001b[0;32m      4\u001b[0m     \u001b[38;5;28mprint\u001b[39m(\u001b[38;5;124mf\u001b[39m\u001b[38;5;124m\"\u001b[39m\u001b[38;5;124mI have a \u001b[39m\u001b[38;5;132;01m{\u001b[39;00manimal_type\u001b[38;5;132;01m}\u001b[39;00m\u001b[38;5;124m. Its name is \u001b[39m\u001b[38;5;132;01m{\u001b[39;00mpet_name\u001b[38;5;132;01m}\u001b[39;00m\u001b[38;5;124m.\u001b[39m\u001b[38;5;124m\"\u001b[39m)\n\u001b[1;32m----> 7\u001b[0m \u001b[43manimal\u001b[49m\u001b[43m(\u001b[49m\u001b[43m)\u001b[49m\n",
      "\u001b[1;31mTypeError\u001b[0m: animal() missing 2 required positional arguments: 'animal_type' and 'pet_name'"
     ]
    }
   ],
   "source": [
    "# 3.2\n",
    "\n",
    "def animal(animal_type, pet_name):\n",
    "    print(f\"I have a {animal_type}. Its name is {pet_name}.\")\n",
    "\n",
    "\n"
   ]
  },
  {
   "cell_type": "code",
   "execution_count": null,
   "metadata": {},
   "outputs": [],
   "source": [
    "#Challenge\n",
    "def max_of_three(num):\n",
    "    return max(num)\n"
   ]
  }
 ],
 "metadata": {
  "kernelspec": {
   "display_name": "Python 3",
   "language": "python",
   "name": "python3"
  },
  "language_info": {
   "codemirror_mode": {
    "name": "ipython",
    "version": 3
   },
   "file_extension": ".py",
   "mimetype": "text/x-python",
   "name": "python",
   "nbconvert_exporter": "python",
   "pygments_lexer": "ipython3",
   "version": "3.12.6"
  }
 },
 "nbformat": 4,
 "nbformat_minor": 2
}
